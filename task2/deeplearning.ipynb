{
 "cells": [
  {
   "cell_type": "code",
   "execution_count": 1,
   "id": "4a12a77a-4d74-4ba2-89be-b665b65c0d6f",
   "metadata": {},
   "outputs": [],
   "source": [
    "# Task 2: MNIST — CNN (PyTorch)\n",
    "import torch, torch.nn as nn, torch.nn.functional as F\n",
    "from torchvision import datasets, transforms\n",
    "from torch.utils.data import DataLoader\n",
    "import matplotlib.pyplot as plt\n",
    "\n",
    "device = torch.device(\"cuda\" if torch.cuda.is_available() else \"cpu\")"
   ]
  },
  {
   "cell_type": "code",
   "execution_count": 3,
   "id": "57fea24d-f92d-40f3-b2ea-ba4382dfd575",
   "metadata": {},
   "outputs": [
    {
     "name": "stderr",
     "output_type": "stream",
     "text": [
      "100%|██████████████████████████████████████| 9.91M/9.91M [00:15<00:00, 629kB/s]\n",
      "100%|██████████████████████████████████████| 28.9k/28.9k [00:00<00:00, 109kB/s]\n",
      "100%|█████████████████████████████████████| 1.65M/1.65M [00:18<00:00, 88.7kB/s]\n",
      "100%|█████████████████████████████████████| 4.54k/4.54k [00:00<00:00, 3.17MB/s]\n"
     ]
    }
   ],
   "source": [
    "# 1) Data\n",
    "tfm = transforms.Compose([\n",
    "    transforms.ToTensor(),\n",
    "    transforms.Normalize((0.1307,), (0.3081,))\n",
    "])\n",
    "train_ds = datasets.MNIST(\"./data\", train=True, download=True, transform=tfm)\n",
    "test_ds  = datasets.MNIST(\"./data\", train=False, download=True, transform=tfm)\n",
    "train_loader = DataLoader(train_ds, batch_size=64, shuffle=True)\n",
    "test_loader  = DataLoader(test_ds, batch_size=1000, shuffle=False)"
   ]
  },
  {
   "cell_type": "code",
   "execution_count": 4,
   "id": "589de8c4-68cf-449d-8c65-b6f5baf29072",
   "metadata": {},
   "outputs": [],
   "source": [
    "# 2) Model: simple CNN that reliably hits >95%\n",
    "class CNN(nn.Module):\n",
    "    def __init__(self):\n",
    "        super().__init__()\n",
    "        self.conv1 = nn.Conv2d(1, 32, 3, padding=1)   # 28x28 -> 28x28\n",
    "        self.conv2 = nn.Conv2d(32, 64, 3, padding=1)  # 14x14 -> 14x14\n",
    "        self.pool  = nn.MaxPool2d(2, 2)               # halves H,W\n",
    "        self.dropout = nn.Dropout(0.25)\n",
    "        self.fc1   = nn.Linear(64 * 7 * 7, 128)\n",
    "        self.fc2   = nn.Linear(128, 10)\n",
    "\n",
    "    def forward(self, x):\n",
    "        x = F.relu(self.conv1(x))     # [B,32,28,28]\n",
    "        x = self.pool(x)              # [B,32,14,14]\n",
    "        x = F.relu(self.conv2(x))     # [B,64,14,14]\n",
    "        x = self.pool(x)              # [B,64,7,7]\n",
    "        x = self.dropout(x)\n",
    "        x = torch.flatten(x, 1)       # [B,64*7*7]\n",
    "        x = F.relu(self.fc1(x))\n",
    "        x = self.dropout(x)\n",
    "        x = self.fc2(x)               # logits\n",
    "        return x\n",
    "\n",
    "model = CNN().to(device)\n",
    "opt = torch.optim.Adam(model.parameters(), lr=1e-3)\n",
    "criterion = nn.CrossEntropyLoss()"
   ]
  },
  {
   "cell_type": "code",
   "execution_count": 5,
   "id": "976ea2df-b740-4d1f-b461-eeecf6313708",
   "metadata": {},
   "outputs": [
    {
     "name": "stdout",
     "output_type": "stream",
     "text": [
      "Epoch 1: train_loss=0.1740  test_loss=0.0436  acc=98.54%\n",
      "Epoch 2: train_loss=0.0634  test_loss=0.0359  acc=98.83%\n",
      "Epoch 3: train_loss=0.0479  test_loss=0.0298  acc=98.90%\n",
      "Epoch 4: train_loss=0.0394  test_loss=0.0314  acc=99.16%\n",
      "Epoch 5: train_loss=0.0337  test_loss=0.0276  acc=99.09%\n"
     ]
    }
   ],
   "source": [
    "# 3) Train\n",
    "for epoch in range(5):\n",
    "    model.train()\n",
    "    running = 0.0\n",
    "    for xb, yb in train_loader:\n",
    "        xb, yb = xb.to(device), yb.to(device)\n",
    "        opt.zero_grad()\n",
    "        out = model(xb)\n",
    "        loss = criterion(out, yb)\n",
    "        loss.backward()\n",
    "        opt.step()\n",
    "        running += loss.item()*xb.size(0)\n",
    "    train_loss = running/len(train_loader.dataset)\n",
    "\n",
    "    # 4) Test\n",
    "    model.eval()\n",
    "    correct, total, test_loss = 0, 0, 0.0\n",
    "    with torch.no_grad():\n",
    "        for xb, yb in test_loader:\n",
    "            xb, yb = xb.to(device), yb.to(device)\n",
    "            out = model(xb)\n",
    "            test_loss += criterion(out, yb).item()*xb.size(0)\n",
    "            pred = out.argmax(1)\n",
    "            correct += (pred == yb).sum().item()\n",
    "            total += yb.size(0)\n",
    "    test_loss /= len(test_loader.dataset)\n",
    "    acc = 100.0 * correct / total\n",
    "    print(f\"Epoch {epoch+1}: train_loss={train_loss:.4f}  test_loss={test_loss:.4f}  acc={acc:.2f}%\")\n"
   ]
  },
  {
   "cell_type": "code",
   "execution_count": 6,
   "id": "f2fdefdf-2be5-46b8-9967-879eda1383ce",
   "metadata": {},
   "outputs": [
    {
     "data": {
      "image/png": "[encoded data removed]",
      "text/plain": [
       "<Figure size 1000x200 with 5 Axes>"
      ]
     },
     "metadata": {},
     "output_type": "display_data"
    }
   ],
   "source": [
    "# 5) Visualize 5 sample predictions\n",
    "model.eval()\n",
    "xb, yb = next(iter(test_loader))\n",
    "xb = xb.to(device)\n",
    "with torch.no_grad():\n",
    "    out = model(xb)\n",
    "pred = out.argmax(1).cpu()\n",
    "\n",
    "fig, axes = plt.subplots(1, 5, figsize=(10,2))\n",
    "for i, ax in enumerate(axes):\n",
    "    ax.imshow(xb[i].cpu().squeeze(), cmap=\"gray\")\n",
    "    ax.set_title(f\"Pred: {pred[i].item()}\")\n",
    "    ax.axis(\"off\")\n",
    "plt.tight_layout()\n",
    "plt.show()"
   ]
  },
  {
   "cell_type": "code",
   "execution_count": 7,
   "id": "a828130a-1357-4f4c-9c7f-ce9db05dc3cb",
   "metadata": {},
   "outputs": [
    {
     "name": "stdout",
     "output_type": "stream",
     "text": [
      "Final Test Accuracy: 99.09%\n"
     ]
    }
   ],
   "source": [
    "print(f\"Final Test Accuracy: {acc:.2f}%\")\n"
   ]
  },
  {
   "cell_type": "code",
   "execution_count": 8,
   "id": "8f903500-989c-4907-a785-fbfaf1160c9e",
   "metadata": {},
   "outputs": [],
   "source": [
    "fig.savefig(\"task2_predictions.png\", dpi=200, bbox_inches=\"tight\")\n"
   ]
  },
  {
   "cell_type": "code",
   "execution_count": 9,
   "id": "db509e18-fc94-4932-a072-b3439a6c641b",
   "metadata": {},
   "outputs": [],
   "source": [
    "torch.save(model.state_dict(), \"mnist_cnn.pt\")\n"
   ]
  },
  {
   "cell_type": "markdown",
   "id": "f8150fee-060d-4b63-b8fa-7169f92b4edb",
   "metadata": {},
   "source": [
    "### MNIST CNN — Summary\n",
    "\n",
    "**Dataset & Preprocessing:** MNIST (70k 28×28 grayscale digits). Images converted to tensors and normalized with mean **0.1307** and std **0.3081**.\n",
    "\n",
    "**Model Architecture:** Two convolution blocks with ReLU + MaxPool (`Conv(1→32,3) → MaxPool(2) → Conv(32→64,3) → MaxPool(2)`), then Dropout, **Flatten**, **FC(64×7×7 → 128)**, Dropout, and **FC(128 → 10 logits)**.\n",
    "\n",
    "**Training Setup:** Adam optimizer (`lr=1e-3`), CrossEntropyLoss, batch sizes **64/1000** for train/test, trained for **5 epochs** on CPU.\n",
    "\n",
    "**Result:** Test accuracy **99.09%** (meets >95% goal).  \n",
    "**Sample Predictions:**  \n",
    "![Predictions](task2_predictions.png)\n"
   ]
  },
  {
   "cell_type": "code",
   "execution_count": null,
   "id": "bdf7e76a-b4be-4bb5-b4c0-7a971ee8c3e8",
   "metadata": {},
   "outputs": [],
   "source": []
  }
 ],
 "metadata": {
  "kernelspec": {
   "display_name": "Python 3 (ipykernel)",
   "language": "python",
   "name": "python3"
  },
  "language_info": {
   "codemirror_mode": {
    "name": "ipython",
    "version": 3
   },
   "file_extension": ".py",
   "mimetype": "text/x-python",
   "name": "python",
   "nbconvert_exporter": "python",
   "pygments_lexer": "ipython3",
   "version": "3.13.8"
  }
 },
 "nbformat": 4,
 "nbformat_minor": 5
}
