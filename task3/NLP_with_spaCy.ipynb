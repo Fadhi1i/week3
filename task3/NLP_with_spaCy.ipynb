{
 "cells": [
  {
   "cell_type": "code",
   "execution_count": 2,
   "id": "e678b65d-0c74-42c4-8c00-620e649c7582",
   "metadata": {},
   "outputs": [],
   "source": [
    "# Task 3: spaCy NER + rule-based sentiment\n",
    "import spacy\n",
    "from pathlib import Path"
   ]
  },
  {
   "cell_type": "code",
   "execution_count": 4,
   "id": "93f6e836-e2e0-4ebb-aad4-d7d0681c779e",
   "metadata": {},
   "outputs": [],
   "source": [
    "# 1) Load small English model (auto-download if missing)\n",
    "try:\n",
    "    nlp = spacy.load(\"en_core_web_sm\")\n",
    "except OSError:\n",
    "    from spacy.cli import download\n",
    "    download(\"en_core_web_sm\")\n",
    "    nlp = spacy.load(\"en_core_web_sm\")\n"
   ]
  },
  {
   "cell_type": "code",
   "execution_count": 7,
   "id": "65acc2c6-a94c-4ea1-bcab-034efb48750a",
   "metadata": {},
   "outputs": [],
   "source": [
    "\n",
    "# 2) Load reviews\n",
    "# Expect a CSV \"reviews.csv\" with a column 'review_text'. If not found, use samples.\n",
    "import pandas as pd\n",
    "if Path(\"reviews.csv\").exists():\n",
    "    df = pd.read_csv(\"reviews.csv\")\n",
    "    texts = df[\"review_text\"].astype(str).tolist()[:20]\n",
    "else:\n",
    "    texts = [\n",
    "        \"I love the Sony headphones — the noise cancellation is amazing!\",\n",
    "        \"Terrible battery life on this Samsung phone. Not worth the price.\",\n",
    "        \"Apple AirPods sound great but the case scratches easily.\",\n",
    "        \"The Nike running shoes are super comfortable and lightweight.\",\n",
    "        \"Amazon Basics USB-C cable works fine, great value for money.\"\n",
    "    ]"
   ]
  },
  {
   "cell_type": "code",
   "execution_count": 8,
   "id": "342b4fec-64d9-47db-a0a4-436e88dd07e5",
   "metadata": {},
   "outputs": [],
   "source": [
    "# 3) Simple rule-based sentiment (very small lexicon demo)\n",
    "POSITIVE_WORDS = {\"amazing\",\"love\",\"great\",\"super\",\"comfortable\",\"lightweight\",\"fine\",\"value\"}\n",
    "NEGATIVE_WORDS = {\"terrible\",\"bad\",\"poor\",\"hate\",\"not worth\",\"scratches\",\"broken\",\"slow\"}\n",
    "\n",
    "def rule_sentiment(text:str):\n",
    "    t = text.lower()\n",
    "    pos = sum(w in t for w in POSITIVE_WORDS)\n",
    "    neg = sum(w in t for w in NEGATIVE_WORDS)\n",
    "    if pos > neg: return \"positive\"\n",
    "    if neg > pos: return \"negative\"\n",
    "    return \"neutral\""
   ]
  },
  {
   "cell_type": "code",
   "execution_count": 9,
   "id": "d87360ad-2c78-48cb-92bc-e3abdd55fe24",
   "metadata": {},
   "outputs": [
    {
     "name": "stdout",
     "output_type": "stream",
     "text": [
      "TEXT: I love the Sony headphones — the noise cancellation is amazing!\n",
      "Entities (ORG/PRODUCT): [('Sony', 'ORG')]\n",
      "Sentiment (rule-based): positive\n",
      "--------------------------------------------------------------------------------\n",
      "TEXT: Terrible battery life on this Samsung phone. Not worth the price.\n",
      "Entities (ORG/PRODUCT): [('Samsung', 'ORG')]\n",
      "Sentiment (rule-based): negative\n",
      "--------------------------------------------------------------------------------\n",
      "TEXT: Apple AirPods sound great but the case scratches easily.\n",
      "Entities (ORG/PRODUCT): [('Apple AirPods', 'ORG')]\n",
      "Sentiment (rule-based): neutral\n",
      "--------------------------------------------------------------------------------\n",
      "TEXT: The Nike running shoes are super comfortable and lightweight.\n",
      "Entities (ORG/PRODUCT): [('Nike', 'ORG')]\n",
      "Sentiment (rule-based): positive\n",
      "--------------------------------------------------------------------------------\n",
      "TEXT: Amazon Basics USB-C cable works fine, great value for money.\n",
      "Entities (ORG/PRODUCT): [('Amazon Basics', 'ORG')]\n",
      "Sentiment (rule-based): positive\n",
      "--------------------------------------------------------------------------------\n"
     ]
    }
   ],
   "source": [
    "# 4) Run NER + sentiment\n",
    "for t in texts:\n",
    "    doc = nlp(t)\n",
    "    ents = [(e.text, e.label_) for e in doc.ents if e.label_ in {\"ORG\",\"PRODUCT\"}]\n",
    "    print(f\"TEXT: {t}\")\n",
    "    print(f\"Entities (ORG/PRODUCT): {ents}\")\n",
    "    print(f\"Sentiment (rule-based): {rule_sentiment(t)}\")\n",
    "    print(\"-\"*80)"
   ]
  },
  {
   "cell_type": "code",
   "execution_count": null,
   "id": "fddfa935-22fd-42f2-bf07-f8ea2ec97d18",
   "metadata": {},
   "outputs": [],
   "source": []
  }
 ],
 "metadata": {
  "kernelspec": {
   "display_name": "Python 3 (ipykernel)",
   "language": "python",
   "name": "python3"
  },
  "language_info": {
   "codemirror_mode": {
    "name": "ipython",
    "version": 3
   },
   "file_extension": ".py",
   "mimetype": "text/x-python",
   "name": "python",
   "nbconvert_exporter": "python",
   "pygments_lexer": "ipython3",
   "version": "3.13.8"
  }
 },
 "nbformat": 4,
 "nbformat_minor": 5
}
